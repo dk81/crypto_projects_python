{
 "cells": [
  {
   "cell_type": "markdown",
   "metadata": {},
   "source": [
    "# Coingecko Crypto Webscrape \n",
    "\n",
    "Reference Video: https://www.youtube.com/watch?v=JbXF3UaaqC8\n",
    "\n",
    "and https://www.youtube.com/watch?v=JbXF3UaaqC8\n",
    "\n",
    "Goal is to webscrape Coingecko's list of crypto prices."
   ]
  },
  {
   "cell_type": "code",
   "execution_count": 1,
   "metadata": {},
   "outputs": [],
   "source": [
    "# Imports\n",
    "\n",
    "from bs4 import BeautifulSoup\n",
    "import requests\n",
    "import pandas as pd"
   ]
  },
  {
   "cell_type": "markdown",
   "metadata": {},
   "source": [
    "## HTTP Request"
   ]
  },
  {
   "cell_type": "code",
   "execution_count": 2,
   "metadata": {},
   "outputs": [],
   "source": [
    "# Obtain URL and get request:\n",
    "\n",
    "url = \"https://www.coingecko.com/\"\n",
    "\n",
    "response = requests.get(url)"
   ]
  },
  {
   "cell_type": "code",
   "execution_count": 3,
   "metadata": {},
   "outputs": [
    {
     "data": {
      "text/plain": [
       "200"
      ]
     },
     "execution_count": 3,
     "metadata": {},
     "output_type": "execute_result"
    }
   ],
   "source": [
    "# Check Status code:\n",
    "\n",
    "response.status_code"
   ]
  },
  {
   "cell_type": "markdown",
   "metadata": {},
   "source": [
    "## Soup Object"
   ]
  },
  {
   "cell_type": "code",
   "execution_count": 4,
   "metadata": {},
   "outputs": [],
   "source": [
    "soup = BeautifulSoup(response.content, 'html.parser')"
   ]
  },
  {
   "cell_type": "markdown",
   "metadata": {},
   "source": [
    "## Results"
   ]
  },
  {
   "cell_type": "markdown",
   "metadata": {},
   "source": [
    "tr means table row"
   ]
  },
  {
   "cell_type": "code",
   "execution_count": 5,
   "metadata": {},
   "outputs": [],
   "source": [
    "results = soup.find('table', {'class': 'table-scrollable'}).find('tbody').find_all('tr')"
   ]
  },
  {
   "cell_type": "code",
   "execution_count": 6,
   "metadata": {},
   "outputs": [
    {
     "data": {
      "text/plain": [
       "100"
      ]
     },
     "execution_count": 6,
     "metadata": {},
     "output_type": "execute_result"
    }
   ],
   "source": [
    "len(results)"
   ]
  },
  {
   "cell_type": "markdown",
   "metadata": {},
   "source": [
    "## Get Necessary Data"
   ]
  },
  {
   "cell_type": "markdown",
   "metadata": {},
   "source": [
    "We have Name, Price, 1h % Change, 24h % Change, 7day Change, 24 hr volume and Market Cap"
   ]
  },
  {
   "cell_type": "code",
   "execution_count": 7,
   "metadata": {},
   "outputs": [
    {
     "data": {
      "text/plain": [
       "<a class=\"tw-hidden lg:tw-flex font-bold tw-items-center tw-justify-between\" href=\"/en/coins/bitcoin\" style=\"width: 115px;\">\n",
       "Bitcoin\n",
       "</a>"
      ]
     },
     "execution_count": 7,
     "metadata": {},
     "output_type": "execute_result"
    }
   ],
   "source": [
    "# Get first row crypto name\n",
    "\n",
    "results[0].find('a', {'class': 'tw-hidden lg:tw-flex font-bold tw-items-center tw-justify-between'})"
   ]
  },
  {
   "cell_type": "markdown",
   "metadata": {},
   "source": [
    "## Name Of First Row"
   ]
  },
  {
   "cell_type": "code",
   "execution_count": 8,
   "metadata": {},
   "outputs": [
    {
     "data": {
      "text/plain": [
       "'Bitcoin'"
      ]
     },
     "execution_count": 8,
     "metadata": {},
     "output_type": "execute_result"
    }
   ],
   "source": [
    "# Obtained on January 24, 2022\n",
    "\n",
    "results[0].find('a', {'class': 'tw-hidden lg:tw-flex font-bold tw-items-center tw-justify-between'}).get_text().strip()"
   ]
  },
  {
   "cell_type": "markdown",
   "metadata": {},
   "source": [
    "## Crypto Rank"
   ]
  },
  {
   "cell_type": "code",
   "execution_count": 9,
   "metadata": {},
   "outputs": [
    {
     "data": {
      "text/plain": [
       "'1'"
      ]
     },
     "execution_count": 9,
     "metadata": {},
     "output_type": "execute_result"
    }
   ],
   "source": [
    "## Crypto Rank:\n",
    "results[0].find('td', {'class': 'table-number'}).get_text().strip()"
   ]
  },
  {
   "cell_type": "markdown",
   "metadata": {},
   "source": [
    "## Crypto Ticker Symbol"
   ]
  },
  {
   "cell_type": "code",
   "execution_count": 10,
   "metadata": {},
   "outputs": [
    {
     "data": {
      "text/plain": [
       "'BTC'"
      ]
     },
     "execution_count": 10,
     "metadata": {},
     "output_type": "execute_result"
    }
   ],
   "source": [
    "results[0].find('a', {'class': 'd-lg-none font-bold tw-w-12'}).get_text().strip()"
   ]
  },
  {
   "cell_type": "markdown",
   "metadata": {},
   "source": [
    "## Price Of First Row\n",
    "\n"
   ]
  },
  {
   "cell_type": "code",
   "execution_count": 11,
   "metadata": {},
   "outputs": [
    {
     "data": {
      "text/plain": [
       "'$37,826.57'"
      ]
     },
     "execution_count": 11,
     "metadata": {},
     "output_type": "execute_result"
    }
   ],
   "source": [
    "results[0].find('span', {'class': 'no-wrap'}).get_text()"
   ]
  },
  {
   "cell_type": "code",
   "execution_count": 12,
   "metadata": {},
   "outputs": [
    {
     "data": {
      "text/plain": [
       "'\\n\\n\\n'"
      ]
     },
     "execution_count": 12,
     "metadata": {},
     "output_type": "execute_result"
    }
   ],
   "source": [
    "# He (youtube) did: \n",
    "\n",
    "results[0].find('td', {'class': 'td-price'}).get_text()"
   ]
  },
  {
   "cell_type": "markdown",
   "metadata": {},
   "source": [
    "## 1 Hour % Change"
   ]
  },
  {
   "cell_type": "code",
   "execution_count": 13,
   "metadata": {},
   "outputs": [
    {
     "data": {
      "text/plain": [
       "'-0.6%'"
      ]
     },
     "execution_count": 13,
     "metadata": {},
     "output_type": "execute_result"
    }
   ],
   "source": [
    "# Nope\n",
    "results[0].find('span', {'class': 'text-danger'}).get_text()"
   ]
  },
  {
   "cell_type": "markdown",
   "metadata": {},
   "source": [
    "## 24 Hour % Change\n"
   ]
  },
  {
   "cell_type": "code",
   "execution_count": 14,
   "metadata": {},
   "outputs": [
    {
     "data": {
      "text/plain": [
       "'-0.6%'"
      ]
     },
     "execution_count": 14,
     "metadata": {},
     "output_type": "execute_result"
    }
   ],
   "source": [
    "results[0].find('td', {'class': 'td-change24h'}).get_text().strip()"
   ]
  },
  {
   "cell_type": "markdown",
   "metadata": {},
   "source": [
    "## 7 Day % Change\n"
   ]
  },
  {
   "cell_type": "code",
   "execution_count": 15,
   "metadata": {},
   "outputs": [
    {
     "data": {
      "text/plain": [
       "'4.2%'"
      ]
     },
     "execution_count": 15,
     "metadata": {},
     "output_type": "execute_result"
    }
   ],
   "source": [
    "results[0].find('td', {'class': 'td-change7d'}).get_text().strip()"
   ]
  },
  {
   "cell_type": "markdown",
   "metadata": {},
   "source": [
    "## 24 Hour Trade Volume"
   ]
  },
  {
   "cell_type": "code",
   "execution_count": 16,
   "metadata": {},
   "outputs": [
    {
     "data": {
      "text/plain": [
       "'$15,171,093,426'"
      ]
     },
     "execution_count": 16,
     "metadata": {},
     "output_type": "execute_result"
    }
   ],
   "source": [
    "results[0].find('td', {'class': 'td-liquidity_score'}).get_text().strip()"
   ]
  },
  {
   "cell_type": "markdown",
   "metadata": {},
   "source": [
    "## Market Cap"
   ]
  },
  {
   "cell_type": "code",
   "execution_count": 17,
   "metadata": {},
   "outputs": [
    {
     "data": {
      "text/plain": [
       "'$716,623,938,896'"
      ]
     },
     "execution_count": 17,
     "metadata": {},
     "output_type": "execute_result"
    }
   ],
   "source": [
    "results[0].find('td', {'class': 'td-market_cap'}).get_text().strip()"
   ]
  },
  {
   "cell_type": "markdown",
   "metadata": {},
   "source": [
    "## Put Top 100 Cryptos Into A For Loop"
   ]
  },
  {
   "cell_type": "code",
   "execution_count": 18,
   "metadata": {},
   "outputs": [],
   "source": [
    "# Youtube initializes lists and then appends with for loop\n",
    "# I'm trying list comprehension\n",
    "\n",
    "rank = [result.find('td', {'class': 'table-number'}).get_text().strip()     \n",
    "        for result in results]\n",
    "\n",
    "name = [result.find('a', {'class': 'tw-hidden lg:tw-flex font-bold tw-items-center tw-justify-between'}).get_text().strip()     \n",
    "        for result in results]\n",
    "\n",
    "ticker = [result.find('a', {'class': 'd-lg-none font-bold tw-w-12'}).get_text().strip()   \n",
    "        for result in results]\n",
    "\n",
    "price = [result.find('span', {'class': 'no-wrap'}).get_text() \n",
    "        for result in results]\n",
    "\n",
    "change_1h = [result.find('td', {'class': 'td-change1h'}).get_text().strip()  \n",
    "        for result in results]\n",
    "\n",
    "change_24h = [result.find('td', {'class': 'td-change24h'}).get_text().strip() \n",
    "        for result in results]\n",
    "\n",
    "change_7d = [result.find('td', {'class': 'td-change7d'}).get_text().strip()   \n",
    "        for result in results]\n",
    "\n",
    "volume_24h = [result.find('td', {'class': 'td-liquidity_score'}).get_text().strip()  \n",
    "        for result in results]\n",
    "\n",
    "market_cap = [result.find('td', {'class': 'td-market_cap'}).get_text().strip()\n",
    "        for result in results]\n",
    "    "
   ]
  },
  {
   "cell_type": "markdown",
   "metadata": {},
   "source": [
    "## Append To pandas Dataframe:"
   ]
  },
  {
   "cell_type": "code",
   "execution_count": 19,
   "metadata": {},
   "outputs": [],
   "source": [
    "# Top 100 Cryptos Coingecko\n",
    "\n",
    "coingecko_df = pd.DataFrame({'Rank': rank, 'Crypto': name, 'Ticker': ticker,\n",
    "                             'Price': price, 'Change 1h': change_1h,\n",
    "                            'Change 24h': change_24h, 'Change 7d': change_7d,\n",
    "                            'Volume 24h': volume_24h, 'Market Cap': market_cap})\n"
   ]
  },
  {
   "cell_type": "code",
   "execution_count": 20,
   "metadata": {},
   "outputs": [
    {
     "data": {
      "text/html": [
       "<div>\n",
       "<style scoped>\n",
       "    .dataframe tbody tr th:only-of-type {\n",
       "        vertical-align: middle;\n",
       "    }\n",
       "\n",
       "    .dataframe tbody tr th {\n",
       "        vertical-align: top;\n",
       "    }\n",
       "\n",
       "    .dataframe thead th {\n",
       "        text-align: right;\n",
       "    }\n",
       "</style>\n",
       "<table border=\"1\" class=\"dataframe\">\n",
       "  <thead>\n",
       "    <tr style=\"text-align: right;\">\n",
       "      <th></th>\n",
       "      <th>Rank</th>\n",
       "      <th>Crypto</th>\n",
       "      <th>Ticker</th>\n",
       "      <th>Price</th>\n",
       "      <th>Change 1h</th>\n",
       "      <th>Change 24h</th>\n",
       "      <th>Change 7d</th>\n",
       "      <th>Volume 24h</th>\n",
       "      <th>Market Cap</th>\n",
       "    </tr>\n",
       "  </thead>\n",
       "  <tbody>\n",
       "    <tr>\n",
       "      <th>0</th>\n",
       "      <td>1</td>\n",
       "      <td>Bitcoin</td>\n",
       "      <td>BTC</td>\n",
       "      <td>$37,826.57</td>\n",
       "      <td>1.1%</td>\n",
       "      <td>-0.6%</td>\n",
       "      <td>4.2%</td>\n",
       "      <td>$15,171,093,426</td>\n",
       "      <td>$716,623,938,896</td>\n",
       "    </tr>\n",
       "    <tr>\n",
       "      <th>1</th>\n",
       "      <td>2</td>\n",
       "      <td>Ethereum</td>\n",
       "      <td>ETH</td>\n",
       "      <td>$2,598.79</td>\n",
       "      <td>1.9%</td>\n",
       "      <td>-0.7%</td>\n",
       "      <td>2.4%</td>\n",
       "      <td>$17,705,709,599</td>\n",
       "      <td>$310,265,831,673</td>\n",
       "    </tr>\n",
       "    <tr>\n",
       "      <th>2</th>\n",
       "      <td>3</td>\n",
       "      <td>Tether</td>\n",
       "      <td>USDT</td>\n",
       "      <td>$1.00</td>\n",
       "      <td>-0.1%</td>\n",
       "      <td>-0.0%</td>\n",
       "      <td>0.1%</td>\n",
       "      <td>$33,972,310,728</td>\n",
       "      <td>$78,208,672,466</td>\n",
       "    </tr>\n",
       "    <tr>\n",
       "      <th>3</th>\n",
       "      <td>4</td>\n",
       "      <td>Binance Coin</td>\n",
       "      <td>BNB</td>\n",
       "      <td>$378.95</td>\n",
       "      <td>0.9%</td>\n",
       "      <td>-0.8%</td>\n",
       "      <td>-1.2%</td>\n",
       "      <td>$945,864,291</td>\n",
       "      <td>$63,848,743,167</td>\n",
       "    </tr>\n",
       "    <tr>\n",
       "      <th>4</th>\n",
       "      <td>5</td>\n",
       "      <td>USD Coin</td>\n",
       "      <td>USDC</td>\n",
       "      <td>$0.996188</td>\n",
       "      <td>-0.5%</td>\n",
       "      <td>-0.5%</td>\n",
       "      <td>-0.9%</td>\n",
       "      <td>$2,179,119,063</td>\n",
       "      <td>$49,805,920,424</td>\n",
       "    </tr>\n",
       "    <tr>\n",
       "      <th>...</th>\n",
       "      <td>...</td>\n",
       "      <td>...</td>\n",
       "      <td>...</td>\n",
       "      <td>...</td>\n",
       "      <td>...</td>\n",
       "      <td>...</td>\n",
       "      <td>...</td>\n",
       "      <td>...</td>\n",
       "      <td>...</td>\n",
       "    </tr>\n",
       "    <tr>\n",
       "      <th>95</th>\n",
       "      <td>95</td>\n",
       "      <td>SafeMoon</td>\n",
       "      <td>SFM</td>\n",
       "      <td>$0.001706390223</td>\n",
       "      <td>3.5%</td>\n",
       "      <td>-1.4%</td>\n",
       "      <td>-0.3%</td>\n",
       "      <td>$384,481</td>\n",
       "      <td>$967,473,234</td>\n",
       "    </tr>\n",
       "    <tr>\n",
       "      <th>96</th>\n",
       "      <td>97</td>\n",
       "      <td>NEM</td>\n",
       "      <td>XEM</td>\n",
       "      <td>$0.100628</td>\n",
       "      <td>1.2%</td>\n",
       "      <td>-2.5%</td>\n",
       "      <td>2.9%</td>\n",
       "      <td>$17,796,301</td>\n",
       "      <td>$909,091,369</td>\n",
       "    </tr>\n",
       "    <tr>\n",
       "      <th>97</th>\n",
       "      <td>98</td>\n",
       "      <td>LooksRare</td>\n",
       "      <td>LOOKS</td>\n",
       "      <td>$4.61</td>\n",
       "      <td>5.7%</td>\n",
       "      <td>3.3%</td>\n",
       "      <td>8.1%</td>\n",
       "      <td>$48,324,541</td>\n",
       "      <td>$905,064,724</td>\n",
       "    </tr>\n",
       "    <tr>\n",
       "      <th>98</th>\n",
       "      <td>99</td>\n",
       "      <td>Pocket Network</td>\n",
       "      <td>POKT</td>\n",
       "      <td>$1.29</td>\n",
       "      <td>0.3%</td>\n",
       "      <td>-7.8%</td>\n",
       "      <td>-2.2%</td>\n",
       "      <td>$6,340,493</td>\n",
       "      <td>$901,660,026</td>\n",
       "    </tr>\n",
       "    <tr>\n",
       "      <th>99</th>\n",
       "      <td>100</td>\n",
       "      <td>Waves</td>\n",
       "      <td>WAVES</td>\n",
       "      <td>$8.96</td>\n",
       "      <td>1.8%</td>\n",
       "      <td>-6.7%</td>\n",
       "      <td>-2.6%</td>\n",
       "      <td>$109,455,835</td>\n",
       "      <td>$896,202,368</td>\n",
       "    </tr>\n",
       "  </tbody>\n",
       "</table>\n",
       "<p>100 rows × 9 columns</p>\n",
       "</div>"
      ],
      "text/plain": [
       "   Rank          Crypto Ticker            Price Change 1h Change 24h  \\\n",
       "0     1         Bitcoin    BTC       $37,826.57      1.1%      -0.6%   \n",
       "1     2        Ethereum    ETH        $2,598.79      1.9%      -0.7%   \n",
       "2     3          Tether   USDT            $1.00     -0.1%      -0.0%   \n",
       "3     4    Binance Coin    BNB          $378.95      0.9%      -0.8%   \n",
       "4     5        USD Coin   USDC        $0.996188     -0.5%      -0.5%   \n",
       "..  ...             ...    ...              ...       ...        ...   \n",
       "95   95        SafeMoon    SFM  $0.001706390223      3.5%      -1.4%   \n",
       "96   97             NEM    XEM        $0.100628      1.2%      -2.5%   \n",
       "97   98       LooksRare  LOOKS            $4.61      5.7%       3.3%   \n",
       "98   99  Pocket Network   POKT            $1.29      0.3%      -7.8%   \n",
       "99  100           Waves  WAVES            $8.96      1.8%      -6.7%   \n",
       "\n",
       "   Change 7d       Volume 24h        Market Cap  \n",
       "0       4.2%  $15,171,093,426  $716,623,938,896  \n",
       "1       2.4%  $17,705,709,599  $310,265,831,673  \n",
       "2       0.1%  $33,972,310,728   $78,208,672,466  \n",
       "3      -1.2%     $945,864,291   $63,848,743,167  \n",
       "4      -0.9%   $2,179,119,063   $49,805,920,424  \n",
       "..       ...              ...               ...  \n",
       "95     -0.3%         $384,481      $967,473,234  \n",
       "96      2.9%      $17,796,301      $909,091,369  \n",
       "97      8.1%      $48,324,541      $905,064,724  \n",
       "98     -2.2%       $6,340,493      $901,660,026  \n",
       "99     -2.6%     $109,455,835      $896,202,368  \n",
       "\n",
       "[100 rows x 9 columns]"
      ]
     },
     "execution_count": 20,
     "metadata": {},
     "output_type": "execute_result"
    }
   ],
   "source": [
    "coingecko_df"
   ]
  },
  {
   "cell_type": "code",
   "execution_count": 21,
   "metadata": {},
   "outputs": [
    {
     "data": {
      "text/plain": [
       "'2022-01-31'"
      ]
     },
     "execution_count": 21,
     "metadata": {},
     "output_type": "execute_result"
    }
   ],
   "source": [
    "# Obtain today's date:\n",
    "\n",
    "from datetime import date\n",
    "\n",
    "str(date.today())"
   ]
  },
  {
   "cell_type": "code",
   "execution_count": 22,
   "metadata": {},
   "outputs": [
    {
     "data": {
      "text/plain": [
       "'coingecko_2022-01-31'"
      ]
     },
     "execution_count": 22,
     "metadata": {},
     "output_type": "execute_result"
    }
   ],
   "source": [
    "# Saved link:\n",
    "\n",
    "saved_link = \"coingecko_\" + str(date.today())\n",
    "saved_link"
   ]
  },
  {
   "cell_type": "code",
   "execution_count": 23,
   "metadata": {},
   "outputs": [],
   "source": [
    "# Save pandas dataframe into excel file:\n",
    "\n",
    "coingecko_df.to_excel(saved_link + \".xlsx\", index = False)"
   ]
  },
  {
   "cell_type": "code",
   "execution_count": 24,
   "metadata": {},
   "outputs": [
    {
     "data": {
      "text/plain": [
       "'coingecko_2022-01-31.xlsx'"
      ]
     },
     "execution_count": 24,
     "metadata": {},
     "output_type": "execute_result"
    }
   ],
   "source": [
    "saved_link + \".xlsx\"\n"
   ]
  },
  {
   "cell_type": "markdown",
   "metadata": {},
   "source": [
    "## Web Scrape More Pages (Top 500 Cryptos)"
   ]
  },
  {
   "cell_type": "markdown",
   "metadata": {},
   "source": [
    "More general code which allows for scraping for more than 1 page. "
   ]
  },
  {
   "cell_type": "code",
   "execution_count": 25,
   "metadata": {},
   "outputs": [],
   "source": [
    "# Initialize empty lists:\n",
    "\n",
    "rank = []\n",
    "name = []\n",
    "ticker = []\n",
    "price = []\n",
    "\n",
    "change_1h = []\n",
    "change_24h = []\n",
    "change_7d = []\n",
    "volume_24h = []\n",
    "market_cap = []\n",
    "\n",
    "\n",
    "# Obtain Top 500\n",
    "for i in range(1, 6):\n",
    "    \n",
    "    # Website link with page number\n",
    "    url = f'https://www.coingecko.com/?page={i}'\n",
    "    \n",
    "    # Request to website:\n",
    "    response = requests.get(url)\n",
    "    \n",
    "    # Soup object:\n",
    "    soup = BeautifulSoup(response.content, 'html.parser')\n",
    "    \n",
    "    # Results from soup:\n",
    "    results = soup.find('table', {'class': 'table-scrollable'}).find('tbody').find_all('tr')\n",
    "    \n",
    "    # Append items:\n",
    "    for result in results:\n",
    "        # Rank, crypto name, ticker, price per unit:\n",
    "        \n",
    "        rank.append(result.find('td', {'class': 'table-number'}).get_text().strip())\n",
    "        name.append(result.find('a', \n",
    "            {'class': 'tw-hidden lg:tw-flex font-bold tw-items-center tw-justify-between'}).get_text().strip() )\n",
    "        ticker.append(result.find('a', {'class': 'd-lg-none font-bold tw-w-12'}).get_text().strip())\n",
    "        price.append(result.find('span', {'class': 'no-wrap'}).get_text().strip())\n",
    "        \n",
    "        # % Changes, 24 hour volume and market cap:\n",
    "        \n",
    "        change_1h.append(result.find('td', {'class': 'td-change1h'}).get_text().strip())\n",
    "        change_24h.append(result.find('td', {'class': 'td-change24h'}).get_text().strip())\n",
    "        change_7d.append(result.find('td', {'class': 'td-change7d'}).get_text().strip())\n",
    "        volume_24h.append(result.find('td', {'class': 'td-liquidity_score'}).get_text().strip())\n",
    "        market_cap.append(result.find('td', {'class': 'td-market_cap'}).get_text().strip())"
   ]
  },
  {
   "cell_type": "code",
   "execution_count": 26,
   "metadata": {},
   "outputs": [],
   "source": [
    "# Make as dataframe:\n",
    "\n",
    "coingecko_df = pd.DataFrame({'Rank': rank, 'Crypto': name, 'Ticker': ticker,\n",
    "                             'Price': price, 'Change 1h (%)': change_1h,\n",
    "                            'Change 24h (%)': change_24h, 'Change 7d (%)': change_7d,\n",
    "                            'Volume 24h': volume_24h, 'Market Cap': market_cap})"
   ]
  },
  {
   "cell_type": "code",
   "execution_count": 27,
   "metadata": {},
   "outputs": [
    {
     "data": {
      "text/html": [
       "<div>\n",
       "<style scoped>\n",
       "    .dataframe tbody tr th:only-of-type {\n",
       "        vertical-align: middle;\n",
       "    }\n",
       "\n",
       "    .dataframe tbody tr th {\n",
       "        vertical-align: top;\n",
       "    }\n",
       "\n",
       "    .dataframe thead th {\n",
       "        text-align: right;\n",
       "    }\n",
       "</style>\n",
       "<table border=\"1\" class=\"dataframe\">\n",
       "  <thead>\n",
       "    <tr style=\"text-align: right;\">\n",
       "      <th></th>\n",
       "      <th>Rank</th>\n",
       "      <th>Crypto</th>\n",
       "      <th>Ticker</th>\n",
       "      <th>Price</th>\n",
       "      <th>Change 1h (%)</th>\n",
       "      <th>Change 24h (%)</th>\n",
       "      <th>Change 7d (%)</th>\n",
       "      <th>Volume 24h</th>\n",
       "      <th>Market Cap</th>\n",
       "    </tr>\n",
       "  </thead>\n",
       "  <tbody>\n",
       "    <tr>\n",
       "      <th>0</th>\n",
       "      <td>1</td>\n",
       "      <td>Bitcoin</td>\n",
       "      <td>BTC</td>\n",
       "      <td>$37,740.23</td>\n",
       "      <td>0.7%</td>\n",
       "      <td>-0.7%</td>\n",
       "      <td>3.9%</td>\n",
       "      <td>$15,206,156,114</td>\n",
       "      <td>$716,623,938,896</td>\n",
       "    </tr>\n",
       "    <tr>\n",
       "      <th>1</th>\n",
       "      <td>2</td>\n",
       "      <td>Ethereum</td>\n",
       "      <td>ETH</td>\n",
       "      <td>$2,598.79</td>\n",
       "      <td>1.9%</td>\n",
       "      <td>-0.7%</td>\n",
       "      <td>2.4%</td>\n",
       "      <td>$17,705,709,599</td>\n",
       "      <td>$310,265,831,673</td>\n",
       "    </tr>\n",
       "    <tr>\n",
       "      <th>2</th>\n",
       "      <td>3</td>\n",
       "      <td>Tether</td>\n",
       "      <td>USDT</td>\n",
       "      <td>$1.00</td>\n",
       "      <td>-0.1%</td>\n",
       "      <td>-0.0%</td>\n",
       "      <td>0.1%</td>\n",
       "      <td>$33,972,310,728</td>\n",
       "      <td>$78,208,672,466</td>\n",
       "    </tr>\n",
       "    <tr>\n",
       "      <th>3</th>\n",
       "      <td>4</td>\n",
       "      <td>Binance Coin</td>\n",
       "      <td>BNB</td>\n",
       "      <td>$378.95</td>\n",
       "      <td>0.9%</td>\n",
       "      <td>-0.8%</td>\n",
       "      <td>-1.2%</td>\n",
       "      <td>$945,864,291</td>\n",
       "      <td>$63,848,743,167</td>\n",
       "    </tr>\n",
       "    <tr>\n",
       "      <th>4</th>\n",
       "      <td>5</td>\n",
       "      <td>USD Coin</td>\n",
       "      <td>USDC</td>\n",
       "      <td>$0.996188</td>\n",
       "      <td>-0.5%</td>\n",
       "      <td>-0.5%</td>\n",
       "      <td>-0.9%</td>\n",
       "      <td>$2,179,119,063</td>\n",
       "      <td>$49,805,920,424</td>\n",
       "    </tr>\n",
       "    <tr>\n",
       "      <th>...</th>\n",
       "      <td>...</td>\n",
       "      <td>...</td>\n",
       "      <td>...</td>\n",
       "      <td>...</td>\n",
       "      <td>...</td>\n",
       "      <td>...</td>\n",
       "      <td>...</td>\n",
       "      <td>...</td>\n",
       "      <td>...</td>\n",
       "    </tr>\n",
       "    <tr>\n",
       "      <th>495</th>\n",
       "      <td>496</td>\n",
       "      <td>Shyft Network</td>\n",
       "      <td>SHFT</td>\n",
       "      <td>$0.467208</td>\n",
       "      <td>0.8%</td>\n",
       "      <td>-1.4%</td>\n",
       "      <td>-7.6%</td>\n",
       "      <td>$50,129.70</td>\n",
       "      <td>$67,085,067</td>\n",
       "    </tr>\n",
       "    <tr>\n",
       "      <th>496</th>\n",
       "      <td>497</td>\n",
       "      <td>Popsicle Finance</td>\n",
       "      <td>ICE</td>\n",
       "      <td>$5.35</td>\n",
       "      <td>4.4%</td>\n",
       "      <td>-18.8%</td>\n",
       "      <td>-44.4%</td>\n",
       "      <td>$9,562,677</td>\n",
       "      <td>$66,372,190</td>\n",
       "    </tr>\n",
       "    <tr>\n",
       "      <th>497</th>\n",
       "      <td>498</td>\n",
       "      <td>VelasPad</td>\n",
       "      <td>VLXPAD</td>\n",
       "      <td>$0.171543</td>\n",
       "      <td>3.3%</td>\n",
       "      <td>-15.3%</td>\n",
       "      <td>-25.5%</td>\n",
       "      <td>$434,247</td>\n",
       "      <td>$66,217,683</td>\n",
       "    </tr>\n",
       "    <tr>\n",
       "      <th>498</th>\n",
       "      <td>499</td>\n",
       "      <td>Solanium</td>\n",
       "      <td>SLIM</td>\n",
       "      <td>$1.15</td>\n",
       "      <td>2.1%</td>\n",
       "      <td>-2.1%</td>\n",
       "      <td>-5.2%</td>\n",
       "      <td>$707,912</td>\n",
       "      <td>$66,167,763</td>\n",
       "    </tr>\n",
       "    <tr>\n",
       "      <th>499</th>\n",
       "      <td>501</td>\n",
       "      <td>Syntropy</td>\n",
       "      <td>NOIA</td>\n",
       "      <td>$0.137567</td>\n",
       "      <td>4.3%</td>\n",
       "      <td>-8.8%</td>\n",
       "      <td>-6.2%</td>\n",
       "      <td>$810,214</td>\n",
       "      <td>$66,029,828</td>\n",
       "    </tr>\n",
       "  </tbody>\n",
       "</table>\n",
       "<p>500 rows × 9 columns</p>\n",
       "</div>"
      ],
      "text/plain": [
       "    Rank            Crypto  Ticker       Price Change 1h (%) Change 24h (%)  \\\n",
       "0      1           Bitcoin     BTC  $37,740.23          0.7%          -0.7%   \n",
       "1      2          Ethereum     ETH   $2,598.79          1.9%          -0.7%   \n",
       "2      3            Tether    USDT       $1.00         -0.1%          -0.0%   \n",
       "3      4      Binance Coin     BNB     $378.95          0.9%          -0.8%   \n",
       "4      5          USD Coin    USDC   $0.996188         -0.5%          -0.5%   \n",
       "..   ...               ...     ...         ...           ...            ...   \n",
       "495  496     Shyft Network    SHFT   $0.467208          0.8%          -1.4%   \n",
       "496  497  Popsicle Finance     ICE       $5.35          4.4%         -18.8%   \n",
       "497  498          VelasPad  VLXPAD   $0.171543          3.3%         -15.3%   \n",
       "498  499          Solanium    SLIM       $1.15          2.1%          -2.1%   \n",
       "499  501          Syntropy    NOIA   $0.137567          4.3%          -8.8%   \n",
       "\n",
       "    Change 7d (%)       Volume 24h        Market Cap  \n",
       "0            3.9%  $15,206,156,114  $716,623,938,896  \n",
       "1            2.4%  $17,705,709,599  $310,265,831,673  \n",
       "2            0.1%  $33,972,310,728   $78,208,672,466  \n",
       "3           -1.2%     $945,864,291   $63,848,743,167  \n",
       "4           -0.9%   $2,179,119,063   $49,805,920,424  \n",
       "..            ...              ...               ...  \n",
       "495         -7.6%       $50,129.70       $67,085,067  \n",
       "496        -44.4%       $9,562,677       $66,372,190  \n",
       "497        -25.5%         $434,247       $66,217,683  \n",
       "498         -5.2%         $707,912       $66,167,763  \n",
       "499         -6.2%         $810,214       $66,029,828  \n",
       "\n",
       "[500 rows x 9 columns]"
      ]
     },
     "execution_count": 27,
     "metadata": {},
     "output_type": "execute_result"
    }
   ],
   "source": [
    "coingecko_df"
   ]
  },
  {
   "cell_type": "code",
   "execution_count": 28,
   "metadata": {},
   "outputs": [
    {
     "data": {
      "text/plain": [
       "'2022-01-31'"
      ]
     },
     "execution_count": 28,
     "metadata": {},
     "output_type": "execute_result"
    }
   ],
   "source": [
    "# Today's date:\n",
    "\n",
    "str(date.today())"
   ]
  },
  {
   "cell_type": "code",
   "execution_count": 29,
   "metadata": {},
   "outputs": [],
   "source": [
    "# Save pandas dataframe into excel file:\n",
    "\n",
    "coingecko_df.to_excel(\"coingecko_\" + str(date.today()) + \".xlsx\", index = False)"
   ]
  },
  {
   "cell_type": "markdown",
   "metadata": {},
   "source": [
    "## Some Basic pandas Filtering & Sorting"
   ]
  },
  {
   "cell_type": "markdown",
   "metadata": {},
   "source": [
    "### Data Cleaning First"
   ]
  },
  {
   "cell_type": "code",
   "execution_count": 30,
   "metadata": {},
   "outputs": [
    {
     "name": "stdout",
     "output_type": "stream",
     "text": [
      "<class 'pandas.core.frame.DataFrame'>\n",
      "RangeIndex: 500 entries, 0 to 499\n",
      "Data columns (total 9 columns):\n",
      " #   Column          Non-Null Count  Dtype \n",
      "---  ------          --------------  ----- \n",
      " 0   Rank            500 non-null    object\n",
      " 1   Crypto          500 non-null    object\n",
      " 2   Ticker          500 non-null    object\n",
      " 3   Price           500 non-null    object\n",
      " 4   Change 1h (%)   500 non-null    object\n",
      " 5   Change 24h (%)  500 non-null    object\n",
      " 6   Change 7d (%)   500 non-null    object\n",
      " 7   Volume 24h      500 non-null    object\n",
      " 8   Market Cap      500 non-null    object\n",
      "dtypes: object(9)\n",
      "memory usage: 35.3+ KB\n"
     ]
    }
   ],
   "source": [
    "coingecko_df.info()"
   ]
  },
  {
   "cell_type": "code",
   "execution_count": 31,
   "metadata": {},
   "outputs": [
    {
     "data": {
      "text/plain": [
       "Rank              0\n",
       "Crypto            0\n",
       "Ticker            0\n",
       "Price             0\n",
       "Change 1h (%)     0\n",
       "Change 24h (%)    0\n",
       "Change 7d (%)     0\n",
       "Volume 24h        0\n",
       "Market Cap        0\n",
       "dtype: int64"
      ]
     },
     "execution_count": 31,
     "metadata": {},
     "output_type": "execute_result"
    }
   ],
   "source": [
    "# Check NA values\n",
    "\n",
    "coingecko_df.isna().sum()"
   ]
  },
  {
   "cell_type": "code",
   "execution_count": 32,
   "metadata": {},
   "outputs": [],
   "source": [
    "# Remove dollar and comma signs:\n",
    "\n",
    "coingecko_df['Price'] = coingecko_df['Price'].str.replace('$', \"\").str.replace(',', \"\")\n",
    "coingecko_df['Volume 24h'] = coingecko_df['Volume 24h'].str.replace('$', \"\").str.replace(',', \"\")\n",
    "coingecko_df['Market Cap'] = coingecko_df['Market Cap'] .str.replace('$', \"\").str.replace(',', \"\")"
   ]
  },
  {
   "cell_type": "code",
   "execution_count": 33,
   "metadata": {},
   "outputs": [],
   "source": [
    "# Remove % signs from change columns:\n",
    "\n",
    "coingecko_df['Change 1h (%)'] = coingecko_df['Change 1h (%)'].str.replace('%', \"\")\n",
    "coingecko_df['Change 24h (%)'] = coingecko_df['Change 24h (%)'].str.replace('%', \"\")\n",
    "coingecko_df['Change 7d (%)'] = coingecko_df['Change 7d (%)'].str.replace('%', \"\")"
   ]
  },
  {
   "cell_type": "code",
   "execution_count": 34,
   "metadata": {},
   "outputs": [
    {
     "data": {
      "text/html": [
       "<div>\n",
       "<style scoped>\n",
       "    .dataframe tbody tr th:only-of-type {\n",
       "        vertical-align: middle;\n",
       "    }\n",
       "\n",
       "    .dataframe tbody tr th {\n",
       "        vertical-align: top;\n",
       "    }\n",
       "\n",
       "    .dataframe thead th {\n",
       "        text-align: right;\n",
       "    }\n",
       "</style>\n",
       "<table border=\"1\" class=\"dataframe\">\n",
       "  <thead>\n",
       "    <tr style=\"text-align: right;\">\n",
       "      <th></th>\n",
       "      <th>Rank</th>\n",
       "      <th>Crypto</th>\n",
       "      <th>Ticker</th>\n",
       "      <th>Price</th>\n",
       "      <th>Change 1h (%)</th>\n",
       "      <th>Change 24h (%)</th>\n",
       "      <th>Change 7d (%)</th>\n",
       "      <th>Volume 24h</th>\n",
       "      <th>Market Cap</th>\n",
       "    </tr>\n",
       "  </thead>\n",
       "  <tbody>\n",
       "    <tr>\n",
       "      <th>0</th>\n",
       "      <td>1</td>\n",
       "      <td>Bitcoin</td>\n",
       "      <td>BTC</td>\n",
       "      <td>37740.23</td>\n",
       "      <td>0.7</td>\n",
       "      <td>-0.7</td>\n",
       "      <td>3.9</td>\n",
       "      <td>15206156114</td>\n",
       "      <td>716623938896</td>\n",
       "    </tr>\n",
       "    <tr>\n",
       "      <th>1</th>\n",
       "      <td>2</td>\n",
       "      <td>Ethereum</td>\n",
       "      <td>ETH</td>\n",
       "      <td>2598.79</td>\n",
       "      <td>1.9</td>\n",
       "      <td>-0.7</td>\n",
       "      <td>2.4</td>\n",
       "      <td>17705709599</td>\n",
       "      <td>310265831673</td>\n",
       "    </tr>\n",
       "    <tr>\n",
       "      <th>2</th>\n",
       "      <td>3</td>\n",
       "      <td>Tether</td>\n",
       "      <td>USDT</td>\n",
       "      <td>1.00</td>\n",
       "      <td>-0.1</td>\n",
       "      <td>-0.0</td>\n",
       "      <td>0.1</td>\n",
       "      <td>33972310728</td>\n",
       "      <td>78208672466</td>\n",
       "    </tr>\n",
       "    <tr>\n",
       "      <th>3</th>\n",
       "      <td>4</td>\n",
       "      <td>Binance Coin</td>\n",
       "      <td>BNB</td>\n",
       "      <td>378.95</td>\n",
       "      <td>0.9</td>\n",
       "      <td>-0.8</td>\n",
       "      <td>-1.2</td>\n",
       "      <td>945864291</td>\n",
       "      <td>63848743167</td>\n",
       "    </tr>\n",
       "    <tr>\n",
       "      <th>4</th>\n",
       "      <td>5</td>\n",
       "      <td>USD Coin</td>\n",
       "      <td>USDC</td>\n",
       "      <td>0.996188</td>\n",
       "      <td>-0.5</td>\n",
       "      <td>-0.5</td>\n",
       "      <td>-0.9</td>\n",
       "      <td>2179119063</td>\n",
       "      <td>49805920424</td>\n",
       "    </tr>\n",
       "  </tbody>\n",
       "</table>\n",
       "</div>"
      ],
      "text/plain": [
       "  Rank        Crypto Ticker     Price Change 1h (%) Change 24h (%)  \\\n",
       "0    1       Bitcoin    BTC  37740.23           0.7           -0.7   \n",
       "1    2      Ethereum    ETH   2598.79           1.9           -0.7   \n",
       "2    3        Tether   USDT      1.00          -0.1           -0.0   \n",
       "3    4  Binance Coin    BNB    378.95           0.9           -0.8   \n",
       "4    5      USD Coin   USDC  0.996188          -0.5           -0.5   \n",
       "\n",
       "  Change 7d (%)   Volume 24h    Market Cap  \n",
       "0           3.9  15206156114  716623938896  \n",
       "1           2.4  17705709599  310265831673  \n",
       "2           0.1  33972310728   78208672466  \n",
       "3          -1.2    945864291   63848743167  \n",
       "4          -0.9   2179119063   49805920424  "
      ]
     },
     "execution_count": 34,
     "metadata": {},
     "output_type": "execute_result"
    }
   ],
   "source": [
    "# Check\n",
    "\n",
    "coingecko_df.head()"
   ]
  },
  {
   "cell_type": "code",
   "execution_count": 35,
   "metadata": {},
   "outputs": [
    {
     "name": "stdout",
     "output_type": "stream",
     "text": [
      "<class 'pandas.core.frame.DataFrame'>\n",
      "RangeIndex: 500 entries, 0 to 499\n",
      "Data columns (total 9 columns):\n",
      " #   Column          Non-Null Count  Dtype \n",
      "---  ------          --------------  ----- \n",
      " 0   Rank            500 non-null    object\n",
      " 1   Crypto          500 non-null    object\n",
      " 2   Ticker          500 non-null    object\n",
      " 3   Price           500 non-null    object\n",
      " 4   Change 1h (%)   500 non-null    object\n",
      " 5   Change 24h (%)  500 non-null    object\n",
      " 6   Change 7d (%)   500 non-null    object\n",
      " 7   Volume 24h      500 non-null    object\n",
      " 8   Market Cap      500 non-null    object\n",
      "dtypes: object(9)\n",
      "memory usage: 35.3+ KB\n"
     ]
    }
   ],
   "source": [
    "coingecko_df.info()"
   ]
  },
  {
   "cell_type": "code",
   "execution_count": 36,
   "metadata": {},
   "outputs": [],
   "source": [
    "# Convert into numeric columns\n",
    "\n",
    "coingecko_df['Rank'] = pd.to_numeric(coingecko_df['Rank'])\n",
    "coingecko_df['Price'] = pd.to_numeric(coingecko_df['Price'])\n",
    "\n",
    "coingecko_df['Change 1h (%)'] = pd.to_numeric(coingecko_df['Change 1h (%)'], errors = 'coerce')\n",
    "coingecko_df['Change 24h (%)'] = pd.to_numeric(coingecko_df['Change 24h (%)'], errors = 'coerce')\n",
    "coingecko_df['Change 7d (%)'] = pd.to_numeric(coingecko_df['Change 7d (%)'], errors = 'coerce')\n",
    "\n",
    "coingecko_df['Volume 24h'] = pd.to_numeric(coingecko_df['Volume 24h'], errors = 'coerce')\n",
    "coingecko_df['Market Cap'] = pd.to_numeric(coingecko_df['Market Cap'], errors = 'coerce')"
   ]
  },
  {
   "cell_type": "code",
   "execution_count": 37,
   "metadata": {},
   "outputs": [
    {
     "data": {
      "text/html": [
       "<div>\n",
       "<style scoped>\n",
       "    .dataframe tbody tr th:only-of-type {\n",
       "        vertical-align: middle;\n",
       "    }\n",
       "\n",
       "    .dataframe tbody tr th {\n",
       "        vertical-align: top;\n",
       "    }\n",
       "\n",
       "    .dataframe thead th {\n",
       "        text-align: right;\n",
       "    }\n",
       "</style>\n",
       "<table border=\"1\" class=\"dataframe\">\n",
       "  <thead>\n",
       "    <tr style=\"text-align: right;\">\n",
       "      <th></th>\n",
       "      <th>Rank</th>\n",
       "      <th>Crypto</th>\n",
       "      <th>Ticker</th>\n",
       "      <th>Price</th>\n",
       "      <th>Change 1h (%)</th>\n",
       "      <th>Change 24h (%)</th>\n",
       "      <th>Change 7d (%)</th>\n",
       "      <th>Volume 24h</th>\n",
       "      <th>Market Cap</th>\n",
       "    </tr>\n",
       "  </thead>\n",
       "  <tbody>\n",
       "    <tr>\n",
       "      <th>495</th>\n",
       "      <td>496</td>\n",
       "      <td>Shyft Network</td>\n",
       "      <td>SHFT</td>\n",
       "      <td>0.467208</td>\n",
       "      <td>0.8</td>\n",
       "      <td>-1.4</td>\n",
       "      <td>-7.6</td>\n",
       "      <td>50129.7</td>\n",
       "      <td>67085067</td>\n",
       "    </tr>\n",
       "    <tr>\n",
       "      <th>496</th>\n",
       "      <td>497</td>\n",
       "      <td>Popsicle Finance</td>\n",
       "      <td>ICE</td>\n",
       "      <td>5.350000</td>\n",
       "      <td>4.4</td>\n",
       "      <td>-18.8</td>\n",
       "      <td>-44.4</td>\n",
       "      <td>9562677.0</td>\n",
       "      <td>66372190</td>\n",
       "    </tr>\n",
       "    <tr>\n",
       "      <th>497</th>\n",
       "      <td>498</td>\n",
       "      <td>VelasPad</td>\n",
       "      <td>VLXPAD</td>\n",
       "      <td>0.171543</td>\n",
       "      <td>3.3</td>\n",
       "      <td>-15.3</td>\n",
       "      <td>-25.5</td>\n",
       "      <td>434247.0</td>\n",
       "      <td>66217683</td>\n",
       "    </tr>\n",
       "    <tr>\n",
       "      <th>498</th>\n",
       "      <td>499</td>\n",
       "      <td>Solanium</td>\n",
       "      <td>SLIM</td>\n",
       "      <td>1.150000</td>\n",
       "      <td>2.1</td>\n",
       "      <td>-2.1</td>\n",
       "      <td>-5.2</td>\n",
       "      <td>707912.0</td>\n",
       "      <td>66167763</td>\n",
       "    </tr>\n",
       "    <tr>\n",
       "      <th>499</th>\n",
       "      <td>501</td>\n",
       "      <td>Syntropy</td>\n",
       "      <td>NOIA</td>\n",
       "      <td>0.137567</td>\n",
       "      <td>4.3</td>\n",
       "      <td>-8.8</td>\n",
       "      <td>-6.2</td>\n",
       "      <td>810214.0</td>\n",
       "      <td>66029828</td>\n",
       "    </tr>\n",
       "  </tbody>\n",
       "</table>\n",
       "</div>"
      ],
      "text/plain": [
       "     Rank            Crypto  Ticker     Price  Change 1h (%)  Change 24h (%)  \\\n",
       "495   496     Shyft Network    SHFT  0.467208            0.8            -1.4   \n",
       "496   497  Popsicle Finance     ICE  5.350000            4.4           -18.8   \n",
       "497   498          VelasPad  VLXPAD  0.171543            3.3           -15.3   \n",
       "498   499          Solanium    SLIM  1.150000            2.1            -2.1   \n",
       "499   501          Syntropy    NOIA  0.137567            4.3            -8.8   \n",
       "\n",
       "     Change 7d (%)  Volume 24h  Market Cap  \n",
       "495           -7.6     50129.7    67085067  \n",
       "496          -44.4   9562677.0    66372190  \n",
       "497          -25.5    434247.0    66217683  \n",
       "498           -5.2    707912.0    66167763  \n",
       "499           -6.2    810214.0    66029828  "
      ]
     },
     "execution_count": 37,
     "metadata": {},
     "output_type": "execute_result"
    }
   ],
   "source": [
    "coingecko_df.tail()"
   ]
  },
  {
   "cell_type": "code",
   "execution_count": 38,
   "metadata": {},
   "outputs": [
    {
     "data": {
      "text/html": [
       "<div>\n",
       "<style scoped>\n",
       "    .dataframe tbody tr th:only-of-type {\n",
       "        vertical-align: middle;\n",
       "    }\n",
       "\n",
       "    .dataframe tbody tr th {\n",
       "        vertical-align: top;\n",
       "    }\n",
       "\n",
       "    .dataframe thead th {\n",
       "        text-align: right;\n",
       "    }\n",
       "</style>\n",
       "<table border=\"1\" class=\"dataframe\">\n",
       "  <thead>\n",
       "    <tr style=\"text-align: right;\">\n",
       "      <th></th>\n",
       "      <th>Rank</th>\n",
       "      <th>Crypto</th>\n",
       "      <th>Ticker</th>\n",
       "      <th>Price</th>\n",
       "      <th>Change 1h (%)</th>\n",
       "      <th>Change 24h (%)</th>\n",
       "      <th>Change 7d (%)</th>\n",
       "      <th>Volume 24h</th>\n",
       "      <th>Market Cap</th>\n",
       "    </tr>\n",
       "  </thead>\n",
       "  <tbody>\n",
       "    <tr>\n",
       "      <th>0</th>\n",
       "      <td>1</td>\n",
       "      <td>Bitcoin</td>\n",
       "      <td>BTC</td>\n",
       "      <td>37740.230000</td>\n",
       "      <td>0.7</td>\n",
       "      <td>-0.7</td>\n",
       "      <td>3.9</td>\n",
       "      <td>1.520616e+10</td>\n",
       "      <td>716623938896</td>\n",
       "    </tr>\n",
       "    <tr>\n",
       "      <th>1</th>\n",
       "      <td>2</td>\n",
       "      <td>Ethereum</td>\n",
       "      <td>ETH</td>\n",
       "      <td>2598.790000</td>\n",
       "      <td>1.9</td>\n",
       "      <td>-0.7</td>\n",
       "      <td>2.4</td>\n",
       "      <td>1.770571e+10</td>\n",
       "      <td>310265831673</td>\n",
       "    </tr>\n",
       "    <tr>\n",
       "      <th>2</th>\n",
       "      <td>3</td>\n",
       "      <td>Tether</td>\n",
       "      <td>USDT</td>\n",
       "      <td>1.000000</td>\n",
       "      <td>-0.1</td>\n",
       "      <td>-0.0</td>\n",
       "      <td>0.1</td>\n",
       "      <td>3.397231e+10</td>\n",
       "      <td>78208672466</td>\n",
       "    </tr>\n",
       "    <tr>\n",
       "      <th>3</th>\n",
       "      <td>4</td>\n",
       "      <td>Binance Coin</td>\n",
       "      <td>BNB</td>\n",
       "      <td>378.950000</td>\n",
       "      <td>0.9</td>\n",
       "      <td>-0.8</td>\n",
       "      <td>-1.2</td>\n",
       "      <td>9.458643e+08</td>\n",
       "      <td>63848743167</td>\n",
       "    </tr>\n",
       "    <tr>\n",
       "      <th>4</th>\n",
       "      <td>5</td>\n",
       "      <td>USD Coin</td>\n",
       "      <td>USDC</td>\n",
       "      <td>0.996188</td>\n",
       "      <td>-0.5</td>\n",
       "      <td>-0.5</td>\n",
       "      <td>-0.9</td>\n",
       "      <td>2.179119e+09</td>\n",
       "      <td>49805920424</td>\n",
       "    </tr>\n",
       "    <tr>\n",
       "      <th>...</th>\n",
       "      <td>...</td>\n",
       "      <td>...</td>\n",
       "      <td>...</td>\n",
       "      <td>...</td>\n",
       "      <td>...</td>\n",
       "      <td>...</td>\n",
       "      <td>...</td>\n",
       "      <td>...</td>\n",
       "      <td>...</td>\n",
       "    </tr>\n",
       "    <tr>\n",
       "      <th>295</th>\n",
       "      <td>296</td>\n",
       "      <td>MX Token</td>\n",
       "      <td>MX</td>\n",
       "      <td>1.700000</td>\n",
       "      <td>0.7</td>\n",
       "      <td>-3.5</td>\n",
       "      <td>2.7</td>\n",
       "      <td>1.181171e+06</td>\n",
       "      <td>170966145</td>\n",
       "    </tr>\n",
       "    <tr>\n",
       "      <th>296</th>\n",
       "      <td>298</td>\n",
       "      <td>Bitcoin Diamond</td>\n",
       "      <td>BCD</td>\n",
       "      <td>0.905862</td>\n",
       "      <td>1.3</td>\n",
       "      <td>-3.4</td>\n",
       "      <td>-0.9</td>\n",
       "      <td>1.488147e+06</td>\n",
       "      <td>170796538</td>\n",
       "    </tr>\n",
       "    <tr>\n",
       "      <th>297</th>\n",
       "      <td>299</td>\n",
       "      <td>Ergo</td>\n",
       "      <td>ERG</td>\n",
       "      <td>3.400000</td>\n",
       "      <td>0.5</td>\n",
       "      <td>-3.7</td>\n",
       "      <td>4.2</td>\n",
       "      <td>6.963110e+05</td>\n",
       "      <td>170226329</td>\n",
       "    </tr>\n",
       "    <tr>\n",
       "      <th>298</th>\n",
       "      <td>297</td>\n",
       "      <td>OpenDAO</td>\n",
       "      <td>SOS</td>\n",
       "      <td>0.000004</td>\n",
       "      <td>0.8</td>\n",
       "      <td>19.9</td>\n",
       "      <td>127.6</td>\n",
       "      <td>2.210418e+08</td>\n",
       "      <td>170130291</td>\n",
       "    </tr>\n",
       "    <tr>\n",
       "      <th>299</th>\n",
       "      <td>300</td>\n",
       "      <td>Beefy.Finance</td>\n",
       "      <td>BIFI</td>\n",
       "      <td>2126.590000</td>\n",
       "      <td>2.3</td>\n",
       "      <td>-1.4</td>\n",
       "      <td>26.7</td>\n",
       "      <td>3.911620e+06</td>\n",
       "      <td>166427223</td>\n",
       "    </tr>\n",
       "  </tbody>\n",
       "</table>\n",
       "<p>300 rows × 9 columns</p>\n",
       "</div>"
      ],
      "text/plain": [
       "     Rank           Crypto Ticker         Price  Change 1h (%)  \\\n",
       "0       1          Bitcoin    BTC  37740.230000            0.7   \n",
       "1       2         Ethereum    ETH   2598.790000            1.9   \n",
       "2       3           Tether   USDT      1.000000           -0.1   \n",
       "3       4     Binance Coin    BNB    378.950000            0.9   \n",
       "4       5         USD Coin   USDC      0.996188           -0.5   \n",
       "..    ...              ...    ...           ...            ...   \n",
       "295   296         MX Token     MX      1.700000            0.7   \n",
       "296   298  Bitcoin Diamond    BCD      0.905862            1.3   \n",
       "297   299             Ergo    ERG      3.400000            0.5   \n",
       "298   297          OpenDAO    SOS      0.000004            0.8   \n",
       "299   300    Beefy.Finance   BIFI   2126.590000            2.3   \n",
       "\n",
       "     Change 24h (%)  Change 7d (%)    Volume 24h    Market Cap  \n",
       "0              -0.7            3.9  1.520616e+10  716623938896  \n",
       "1              -0.7            2.4  1.770571e+10  310265831673  \n",
       "2              -0.0            0.1  3.397231e+10   78208672466  \n",
       "3              -0.8           -1.2  9.458643e+08   63848743167  \n",
       "4              -0.5           -0.9  2.179119e+09   49805920424  \n",
       "..              ...            ...           ...           ...  \n",
       "295            -3.5            2.7  1.181171e+06     170966145  \n",
       "296            -3.4           -0.9  1.488147e+06     170796538  \n",
       "297            -3.7            4.2  6.963110e+05     170226329  \n",
       "298            19.9          127.6  2.210418e+08     170130291  \n",
       "299            -1.4           26.7  3.911620e+06     166427223  \n",
       "\n",
       "[300 rows x 9 columns]"
      ]
     },
     "execution_count": 38,
     "metadata": {},
     "output_type": "execute_result"
    }
   ],
   "source": [
    "## Top 300 Cryptos\n",
    "\n",
    "coingecko_df[coingecko_df['Rank'] < 301]"
   ]
  },
  {
   "cell_type": "code",
   "execution_count": 39,
   "metadata": {},
   "outputs": [
    {
     "data": {
      "text/html": [
       "<div>\n",
       "<style scoped>\n",
       "    .dataframe tbody tr th:only-of-type {\n",
       "        vertical-align: middle;\n",
       "    }\n",
       "\n",
       "    .dataframe tbody tr th {\n",
       "        vertical-align: top;\n",
       "    }\n",
       "\n",
       "    .dataframe thead th {\n",
       "        text-align: right;\n",
       "    }\n",
       "</style>\n",
       "<table border=\"1\" class=\"dataframe\">\n",
       "  <thead>\n",
       "    <tr style=\"text-align: right;\">\n",
       "      <th></th>\n",
       "      <th>Rank</th>\n",
       "      <th>Crypto</th>\n",
       "      <th>Ticker</th>\n",
       "      <th>Price</th>\n",
       "      <th>Change 1h (%)</th>\n",
       "      <th>Change 24h (%)</th>\n",
       "      <th>Change 7d (%)</th>\n",
       "      <th>Volume 24h</th>\n",
       "      <th>Market Cap</th>\n",
       "    </tr>\n",
       "  </thead>\n",
       "  <tbody>\n",
       "    <tr>\n",
       "      <th>0</th>\n",
       "      <td>1</td>\n",
       "      <td>Bitcoin</td>\n",
       "      <td>BTC</td>\n",
       "      <td>37740.230000</td>\n",
       "      <td>0.7</td>\n",
       "      <td>-0.7</td>\n",
       "      <td>3.9</td>\n",
       "      <td>1.520616e+10</td>\n",
       "      <td>716623938896</td>\n",
       "    </tr>\n",
       "    <tr>\n",
       "      <th>1</th>\n",
       "      <td>2</td>\n",
       "      <td>Ethereum</td>\n",
       "      <td>ETH</td>\n",
       "      <td>2598.790000</td>\n",
       "      <td>1.9</td>\n",
       "      <td>-0.7</td>\n",
       "      <td>2.4</td>\n",
       "      <td>1.770571e+10</td>\n",
       "      <td>310265831673</td>\n",
       "    </tr>\n",
       "    <tr>\n",
       "      <th>2</th>\n",
       "      <td>3</td>\n",
       "      <td>Tether</td>\n",
       "      <td>USDT</td>\n",
       "      <td>1.000000</td>\n",
       "      <td>-0.1</td>\n",
       "      <td>-0.0</td>\n",
       "      <td>0.1</td>\n",
       "      <td>3.397231e+10</td>\n",
       "      <td>78208672466</td>\n",
       "    </tr>\n",
       "    <tr>\n",
       "      <th>3</th>\n",
       "      <td>4</td>\n",
       "      <td>Binance Coin</td>\n",
       "      <td>BNB</td>\n",
       "      <td>378.950000</td>\n",
       "      <td>0.9</td>\n",
       "      <td>-0.8</td>\n",
       "      <td>-1.2</td>\n",
       "      <td>9.458643e+08</td>\n",
       "      <td>63848743167</td>\n",
       "    </tr>\n",
       "    <tr>\n",
       "      <th>4</th>\n",
       "      <td>5</td>\n",
       "      <td>USD Coin</td>\n",
       "      <td>USDC</td>\n",
       "      <td>0.996188</td>\n",
       "      <td>-0.5</td>\n",
       "      <td>-0.5</td>\n",
       "      <td>-0.9</td>\n",
       "      <td>2.179119e+09</td>\n",
       "      <td>49805920424</td>\n",
       "    </tr>\n",
       "    <tr>\n",
       "      <th>...</th>\n",
       "      <td>...</td>\n",
       "      <td>...</td>\n",
       "      <td>...</td>\n",
       "      <td>...</td>\n",
       "      <td>...</td>\n",
       "      <td>...</td>\n",
       "      <td>...</td>\n",
       "      <td>...</td>\n",
       "      <td>...</td>\n",
       "    </tr>\n",
       "    <tr>\n",
       "      <th>88</th>\n",
       "      <td>88</td>\n",
       "      <td>Celsius Network</td>\n",
       "      <td>CEL</td>\n",
       "      <td>2.600000</td>\n",
       "      <td>1.9</td>\n",
       "      <td>1.6</td>\n",
       "      <td>4.7</td>\n",
       "      <td>2.499058e+06</td>\n",
       "      <td>1102813569</td>\n",
       "    </tr>\n",
       "    <tr>\n",
       "      <th>89</th>\n",
       "      <td>90</td>\n",
       "      <td>Oasis Network</td>\n",
       "      <td>ROSE</td>\n",
       "      <td>0.313529</td>\n",
       "      <td>2.3</td>\n",
       "      <td>-2.8</td>\n",
       "      <td>-11.1</td>\n",
       "      <td>1.029065e+08</td>\n",
       "      <td>1097181101</td>\n",
       "    </tr>\n",
       "    <tr>\n",
       "      <th>90</th>\n",
       "      <td>91</td>\n",
       "      <td>GateToken</td>\n",
       "      <td>GT</td>\n",
       "      <td>6.790000</td>\n",
       "      <td>0.6</td>\n",
       "      <td>-0.2</td>\n",
       "      <td>10.9</td>\n",
       "      <td>4.766623e+06</td>\n",
       "      <td>1068883462</td>\n",
       "    </tr>\n",
       "    <tr>\n",
       "      <th>91</th>\n",
       "      <td>92</td>\n",
       "      <td>Pax Dollar</td>\n",
       "      <td>USDP</td>\n",
       "      <td>0.999876</td>\n",
       "      <td>-0.2</td>\n",
       "      <td>-0.1</td>\n",
       "      <td>-0.2</td>\n",
       "      <td>1.130581e+07</td>\n",
       "      <td>1037654669</td>\n",
       "    </tr>\n",
       "    <tr>\n",
       "      <th>92</th>\n",
       "      <td>93</td>\n",
       "      <td>Kadena</td>\n",
       "      <td>KDA</td>\n",
       "      <td>5.990000</td>\n",
       "      <td>2.4</td>\n",
       "      <td>-2.1</td>\n",
       "      <td>4.1</td>\n",
       "      <td>3.154389e+07</td>\n",
       "      <td>1016940334</td>\n",
       "    </tr>\n",
       "  </tbody>\n",
       "</table>\n",
       "<p>93 rows × 9 columns</p>\n",
       "</div>"
      ],
      "text/plain": [
       "    Rank           Crypto Ticker         Price  Change 1h (%)  Change 24h (%)  \\\n",
       "0      1          Bitcoin    BTC  37740.230000            0.7            -0.7   \n",
       "1      2         Ethereum    ETH   2598.790000            1.9            -0.7   \n",
       "2      3           Tether   USDT      1.000000           -0.1            -0.0   \n",
       "3      4     Binance Coin    BNB    378.950000            0.9            -0.8   \n",
       "4      5         USD Coin   USDC      0.996188           -0.5            -0.5   \n",
       "..   ...              ...    ...           ...            ...             ...   \n",
       "88    88  Celsius Network    CEL      2.600000            1.9             1.6   \n",
       "89    90    Oasis Network   ROSE      0.313529            2.3            -2.8   \n",
       "90    91        GateToken     GT      6.790000            0.6            -0.2   \n",
       "91    92       Pax Dollar   USDP      0.999876           -0.2            -0.1   \n",
       "92    93           Kadena    KDA      5.990000            2.4            -2.1   \n",
       "\n",
       "    Change 7d (%)    Volume 24h    Market Cap  \n",
       "0             3.9  1.520616e+10  716623938896  \n",
       "1             2.4  1.770571e+10  310265831673  \n",
       "2             0.1  3.397231e+10   78208672466  \n",
       "3            -1.2  9.458643e+08   63848743167  \n",
       "4            -0.9  2.179119e+09   49805920424  \n",
       "..            ...           ...           ...  \n",
       "88            4.7  2.499058e+06    1102813569  \n",
       "89          -11.1  1.029065e+08    1097181101  \n",
       "90           10.9  4.766623e+06    1068883462  \n",
       "91           -0.2  1.130581e+07    1037654669  \n",
       "92            4.1  3.154389e+07    1016940334  \n",
       "\n",
       "[93 rows x 9 columns]"
      ]
     },
     "execution_count": 39,
     "metadata": {},
     "output_type": "execute_result"
    }
   ],
   "source": [
    "## Market cap over 1 Billion USD:\n",
    "\n",
    "coingecko_df[coingecko_df['Market Cap'] > 10**9]"
   ]
  },
  {
   "cell_type": "code",
   "execution_count": 40,
   "metadata": {},
   "outputs": [
    {
     "data": {
      "text/html": [
       "<div>\n",
       "<style scoped>\n",
       "    .dataframe tbody tr th:only-of-type {\n",
       "        vertical-align: middle;\n",
       "    }\n",
       "\n",
       "    .dataframe tbody tr th {\n",
       "        vertical-align: top;\n",
       "    }\n",
       "\n",
       "    .dataframe thead th {\n",
       "        text-align: right;\n",
       "    }\n",
       "</style>\n",
       "<table border=\"1\" class=\"dataframe\">\n",
       "  <thead>\n",
       "    <tr style=\"text-align: right;\">\n",
       "      <th></th>\n",
       "      <th>Rank</th>\n",
       "      <th>Crypto</th>\n",
       "      <th>Ticker</th>\n",
       "      <th>Price</th>\n",
       "      <th>Change 1h (%)</th>\n",
       "      <th>Change 24h (%)</th>\n",
       "      <th>Change 7d (%)</th>\n",
       "      <th>Volume 24h</th>\n",
       "      <th>Market Cap</th>\n",
       "    </tr>\n",
       "  </thead>\n",
       "  <tbody>\n",
       "    <tr>\n",
       "      <th>0</th>\n",
       "      <td>1</td>\n",
       "      <td>Bitcoin</td>\n",
       "      <td>BTC</td>\n",
       "      <td>37740.230000</td>\n",
       "      <td>0.7</td>\n",
       "      <td>-0.7</td>\n",
       "      <td>3.9</td>\n",
       "      <td>1.520616e+10</td>\n",
       "      <td>716623938896</td>\n",
       "    </tr>\n",
       "    <tr>\n",
       "      <th>17</th>\n",
       "      <td>18</td>\n",
       "      <td>Wrapped Bitcoin</td>\n",
       "      <td>WBTC</td>\n",
       "      <td>37763.030000</td>\n",
       "      <td>0.9</td>\n",
       "      <td>-0.7</td>\n",
       "      <td>3.9</td>\n",
       "      <td>2.843504e+08</td>\n",
       "      <td>10256350417</td>\n",
       "    </tr>\n",
       "    <tr>\n",
       "      <th>27</th>\n",
       "      <td>28</td>\n",
       "      <td>Bitcoin Cash</td>\n",
       "      <td>BCH</td>\n",
       "      <td>285.470000</td>\n",
       "      <td>1.3</td>\n",
       "      <td>-4.0</td>\n",
       "      <td>-5.5</td>\n",
       "      <td>1.179819e+09</td>\n",
       "      <td>5415912225</td>\n",
       "    </tr>\n",
       "    <tr>\n",
       "      <th>66</th>\n",
       "      <td>67</td>\n",
       "      <td>Bitcoin SV</td>\n",
       "      <td>BSV</td>\n",
       "      <td>90.470000</td>\n",
       "      <td>0.7</td>\n",
       "      <td>-1.0</td>\n",
       "      <td>-3.3</td>\n",
       "      <td>5.905193e+07</td>\n",
       "      <td>1726094157</td>\n",
       "    </tr>\n",
       "    <tr>\n",
       "      <th>140</th>\n",
       "      <td>141</td>\n",
       "      <td>Bitcoin Gold</td>\n",
       "      <td>BTG</td>\n",
       "      <td>29.550000</td>\n",
       "      <td>1.0</td>\n",
       "      <td>-2.5</td>\n",
       "      <td>-0.6</td>\n",
       "      <td>7.125662e+06</td>\n",
       "      <td>519111738</td>\n",
       "    </tr>\n",
       "    <tr>\n",
       "      <th>273</th>\n",
       "      <td>274</td>\n",
       "      <td>Interest Bearing Bitcoin</td>\n",
       "      <td>IBBTC</td>\n",
       "      <td>37851.840000</td>\n",
       "      <td>1.1</td>\n",
       "      <td>0.3</td>\n",
       "      <td>7.4</td>\n",
       "      <td>1.528636e+04</td>\n",
       "      <td>189976095</td>\n",
       "    </tr>\n",
       "    <tr>\n",
       "      <th>296</th>\n",
       "      <td>298</td>\n",
       "      <td>Bitcoin Diamond</td>\n",
       "      <td>BCD</td>\n",
       "      <td>0.905862</td>\n",
       "      <td>1.3</td>\n",
       "      <td>-3.4</td>\n",
       "      <td>-0.9</td>\n",
       "      <td>1.488147e+06</td>\n",
       "      <td>170796538</td>\n",
       "    </tr>\n",
       "  </tbody>\n",
       "</table>\n",
       "</div>"
      ],
      "text/plain": [
       "     Rank                    Crypto Ticker         Price  Change 1h (%)  \\\n",
       "0       1                   Bitcoin    BTC  37740.230000            0.7   \n",
       "17     18           Wrapped Bitcoin   WBTC  37763.030000            0.9   \n",
       "27     28              Bitcoin Cash    BCH    285.470000            1.3   \n",
       "66     67                Bitcoin SV    BSV     90.470000            0.7   \n",
       "140   141              Bitcoin Gold    BTG     29.550000            1.0   \n",
       "273   274  Interest Bearing Bitcoin  IBBTC  37851.840000            1.1   \n",
       "296   298           Bitcoin Diamond    BCD      0.905862            1.3   \n",
       "\n",
       "     Change 24h (%)  Change 7d (%)    Volume 24h    Market Cap  \n",
       "0              -0.7            3.9  1.520616e+10  716623938896  \n",
       "17             -0.7            3.9  2.843504e+08   10256350417  \n",
       "27             -4.0           -5.5  1.179819e+09    5415912225  \n",
       "66             -1.0           -3.3  5.905193e+07    1726094157  \n",
       "140            -2.5           -0.6  7.125662e+06     519111738  \n",
       "273             0.3            7.4  1.528636e+04     189976095  \n",
       "296            -3.4           -0.9  1.488147e+06     170796538  "
      ]
     },
     "execution_count": 40,
     "metadata": {},
     "output_type": "execute_result"
    }
   ],
   "source": [
    "## Cryptos With Bitcoin in name:\n",
    "\n",
    "coingecko_df[coingecko_df['Crypto'].str.contains('Bitcoin')]"
   ]
  },
  {
   "cell_type": "code",
   "execution_count": 41,
   "metadata": {},
   "outputs": [
    {
     "data": {
      "text/html": [
       "<div>\n",
       "<style scoped>\n",
       "    .dataframe tbody tr th:only-of-type {\n",
       "        vertical-align: middle;\n",
       "    }\n",
       "\n",
       "    .dataframe tbody tr th {\n",
       "        vertical-align: top;\n",
       "    }\n",
       "\n",
       "    .dataframe thead th {\n",
       "        text-align: right;\n",
       "    }\n",
       "</style>\n",
       "<table border=\"1\" class=\"dataframe\">\n",
       "  <thead>\n",
       "    <tr style=\"text-align: right;\">\n",
       "      <th></th>\n",
       "      <th>Rank</th>\n",
       "      <th>Crypto</th>\n",
       "      <th>Ticker</th>\n",
       "      <th>Price</th>\n",
       "      <th>Change 1h (%)</th>\n",
       "      <th>Change 24h (%)</th>\n",
       "      <th>Change 7d (%)</th>\n",
       "      <th>Volume 24h</th>\n",
       "      <th>Market Cap</th>\n",
       "    </tr>\n",
       "  </thead>\n",
       "  <tbody>\n",
       "    <tr>\n",
       "      <th>448</th>\n",
       "      <td>449</td>\n",
       "      <td>DerivaDAO</td>\n",
       "      <td>DDX</td>\n",
       "      <td>3.510000</td>\n",
       "      <td>7.6</td>\n",
       "      <td>40.3</td>\n",
       "      <td>26.4</td>\n",
       "      <td>15638705.0</td>\n",
       "      <td>87123455</td>\n",
       "    </tr>\n",
       "    <tr>\n",
       "      <th>450</th>\n",
       "      <td>451</td>\n",
       "      <td>ShibaDoge</td>\n",
       "      <td>SHIBDOGE</td>\n",
       "      <td>0.000000</td>\n",
       "      <td>3.6</td>\n",
       "      <td>33.2</td>\n",
       "      <td>328.8</td>\n",
       "      <td>2057112.0</td>\n",
       "      <td>86883847</td>\n",
       "    </tr>\n",
       "    <tr>\n",
       "      <th>247</th>\n",
       "      <td>248</td>\n",
       "      <td>Telos</td>\n",
       "      <td>TLOS</td>\n",
       "      <td>0.865789</td>\n",
       "      <td>7.0</td>\n",
       "      <td>24.3</td>\n",
       "      <td>58.3</td>\n",
       "      <td>8760570.0</td>\n",
       "      <td>219134566</td>\n",
       "    </tr>\n",
       "    <tr>\n",
       "      <th>371</th>\n",
       "      <td>372</td>\n",
       "      <td>RSK Infrastructure Framework</td>\n",
       "      <td>RIF</td>\n",
       "      <td>0.146655</td>\n",
       "      <td>-0.2</td>\n",
       "      <td>23.8</td>\n",
       "      <td>-0.7</td>\n",
       "      <td>15137638.0</td>\n",
       "      <td>119414707</td>\n",
       "    </tr>\n",
       "    <tr>\n",
       "      <th>356</th>\n",
       "      <td>358</td>\n",
       "      <td>Bonfida</td>\n",
       "      <td>FIDA</td>\n",
       "      <td>2.600000</td>\n",
       "      <td>0.5</td>\n",
       "      <td>23.4</td>\n",
       "      <td>34.9</td>\n",
       "      <td>23261111.0</td>\n",
       "      <td>128763900</td>\n",
       "    </tr>\n",
       "    <tr>\n",
       "      <th>207</th>\n",
       "      <td>208</td>\n",
       "      <td>StarLink</td>\n",
       "      <td>STARL</td>\n",
       "      <td>0.000028</td>\n",
       "      <td>2.6</td>\n",
       "      <td>20.2</td>\n",
       "      <td>70.3</td>\n",
       "      <td>44955349.0</td>\n",
       "      <td>281724778</td>\n",
       "    </tr>\n",
       "    <tr>\n",
       "      <th>298</th>\n",
       "      <td>297</td>\n",
       "      <td>OpenDAO</td>\n",
       "      <td>SOS</td>\n",
       "      <td>0.000004</td>\n",
       "      <td>0.8</td>\n",
       "      <td>19.9</td>\n",
       "      <td>127.6</td>\n",
       "      <td>221041808.0</td>\n",
       "      <td>170130291</td>\n",
       "    </tr>\n",
       "    <tr>\n",
       "      <th>282</th>\n",
       "      <td>281</td>\n",
       "      <td>PlatON Network</td>\n",
       "      <td>LAT</td>\n",
       "      <td>0.079483</td>\n",
       "      <td>1.3</td>\n",
       "      <td>17.5</td>\n",
       "      <td>5.8</td>\n",
       "      <td>11053198.0</td>\n",
       "      <td>183093454</td>\n",
       "    </tr>\n",
       "    <tr>\n",
       "      <th>365</th>\n",
       "      <td>366</td>\n",
       "      <td>Star Atlas</td>\n",
       "      <td>ATLAS</td>\n",
       "      <td>0.056904</td>\n",
       "      <td>7.1</td>\n",
       "      <td>17.0</td>\n",
       "      <td>17.1</td>\n",
       "      <td>20445616.0</td>\n",
       "      <td>123129019</td>\n",
       "    </tr>\n",
       "    <tr>\n",
       "      <th>281</th>\n",
       "      <td>283</td>\n",
       "      <td>Hxro</td>\n",
       "      <td>HXRO</td>\n",
       "      <td>0.419886</td>\n",
       "      <td>-2.1</td>\n",
       "      <td>16.6</td>\n",
       "      <td>28.8</td>\n",
       "      <td>1828995.0</td>\n",
       "      <td>183422840</td>\n",
       "    </tr>\n",
       "  </tbody>\n",
       "</table>\n",
       "</div>"
      ],
      "text/plain": [
       "     Rank                        Crypto    Ticker     Price  Change 1h (%)  \\\n",
       "448   449                     DerivaDAO       DDX  3.510000            7.6   \n",
       "450   451                     ShibaDoge  SHIBDOGE  0.000000            3.6   \n",
       "247   248                         Telos      TLOS  0.865789            7.0   \n",
       "371   372  RSK Infrastructure Framework       RIF  0.146655           -0.2   \n",
       "356   358                       Bonfida      FIDA  2.600000            0.5   \n",
       "207   208                      StarLink     STARL  0.000028            2.6   \n",
       "298   297                       OpenDAO       SOS  0.000004            0.8   \n",
       "282   281                PlatON Network       LAT  0.079483            1.3   \n",
       "365   366                    Star Atlas     ATLAS  0.056904            7.1   \n",
       "281   283                          Hxro      HXRO  0.419886           -2.1   \n",
       "\n",
       "     Change 24h (%)  Change 7d (%)   Volume 24h  Market Cap  \n",
       "448            40.3           26.4   15638705.0    87123455  \n",
       "450            33.2          328.8    2057112.0    86883847  \n",
       "247            24.3           58.3    8760570.0   219134566  \n",
       "371            23.8           -0.7   15137638.0   119414707  \n",
       "356            23.4           34.9   23261111.0   128763900  \n",
       "207            20.2           70.3   44955349.0   281724778  \n",
       "298            19.9          127.6  221041808.0   170130291  \n",
       "282            17.5            5.8   11053198.0   183093454  \n",
       "365            17.0           17.1   20445616.0   123129019  \n",
       "281            16.6           28.8    1828995.0   183422840  "
      ]
     },
     "execution_count": 41,
     "metadata": {},
     "output_type": "execute_result"
    }
   ],
   "source": [
    "## Largest 24h Change:\n",
    "\n",
    "coingecko_df.sort_values('Change 24h (%)', ascending = False).head(10)"
   ]
  },
  {
   "cell_type": "code",
   "execution_count": 42,
   "metadata": {},
   "outputs": [
    {
     "data": {
      "text/html": [
       "<div>\n",
       "<style scoped>\n",
       "    .dataframe tbody tr th:only-of-type {\n",
       "        vertical-align: middle;\n",
       "    }\n",
       "\n",
       "    .dataframe tbody tr th {\n",
       "        vertical-align: top;\n",
       "    }\n",
       "\n",
       "    .dataframe thead th {\n",
       "        text-align: right;\n",
       "    }\n",
       "</style>\n",
       "<table border=\"1\" class=\"dataframe\">\n",
       "  <thead>\n",
       "    <tr style=\"text-align: right;\">\n",
       "      <th></th>\n",
       "      <th>Rank</th>\n",
       "      <th>Crypto</th>\n",
       "      <th>Ticker</th>\n",
       "      <th>Price</th>\n",
       "      <th>Change 1h (%)</th>\n",
       "      <th>Change 24h (%)</th>\n",
       "      <th>Change 7d (%)</th>\n",
       "      <th>Volume 24h</th>\n",
       "      <th>Market Cap</th>\n",
       "    </tr>\n",
       "  </thead>\n",
       "  <tbody>\n",
       "    <tr>\n",
       "      <th>450</th>\n",
       "      <td>451</td>\n",
       "      <td>ShibaDoge</td>\n",
       "      <td>SHIBDOGE</td>\n",
       "      <td>0.000000</td>\n",
       "      <td>3.6</td>\n",
       "      <td>33.2</td>\n",
       "      <td>328.8</td>\n",
       "      <td>2057112.0</td>\n",
       "      <td>86883847</td>\n",
       "    </tr>\n",
       "    <tr>\n",
       "      <th>380</th>\n",
       "      <td>381</td>\n",
       "      <td>Magic</td>\n",
       "      <td>MAGIC</td>\n",
       "      <td>4.080000</td>\n",
       "      <td>1.3</td>\n",
       "      <td>-4.7</td>\n",
       "      <td>133.1</td>\n",
       "      <td>16076155.0</td>\n",
       "      <td>116435972</td>\n",
       "    </tr>\n",
       "    <tr>\n",
       "      <th>159</th>\n",
       "      <td>160</td>\n",
       "      <td>ConstitutionDAO</td>\n",
       "      <td>PEOPLE</td>\n",
       "      <td>0.087148</td>\n",
       "      <td>5.0</td>\n",
       "      <td>3.5</td>\n",
       "      <td>132.2</td>\n",
       "      <td>372076395.0</td>\n",
       "      <td>442583937</td>\n",
       "    </tr>\n",
       "    <tr>\n",
       "      <th>298</th>\n",
       "      <td>297</td>\n",
       "      <td>OpenDAO</td>\n",
       "      <td>SOS</td>\n",
       "      <td>0.000004</td>\n",
       "      <td>0.8</td>\n",
       "      <td>19.9</td>\n",
       "      <td>127.6</td>\n",
       "      <td>221041808.0</td>\n",
       "      <td>170130291</td>\n",
       "    </tr>\n",
       "    <tr>\n",
       "      <th>405</th>\n",
       "      <td>406</td>\n",
       "      <td>Oxygen</td>\n",
       "      <td>OXY</td>\n",
       "      <td>0.491218</td>\n",
       "      <td>0.8</td>\n",
       "      <td>-1.9</td>\n",
       "      <td>89.6</td>\n",
       "      <td>818531.0</td>\n",
       "      <td>98924594</td>\n",
       "    </tr>\n",
       "    <tr>\n",
       "      <th>472</th>\n",
       "      <td>473</td>\n",
       "      <td>Samoyedcoin</td>\n",
       "      <td>SAMO</td>\n",
       "      <td>0.023761</td>\n",
       "      <td>1.9</td>\n",
       "      <td>-3.8</td>\n",
       "      <td>72.5</td>\n",
       "      <td>6484106.0</td>\n",
       "      <td>77022668</td>\n",
       "    </tr>\n",
       "    <tr>\n",
       "      <th>207</th>\n",
       "      <td>208</td>\n",
       "      <td>StarLink</td>\n",
       "      <td>STARL</td>\n",
       "      <td>0.000028</td>\n",
       "      <td>2.6</td>\n",
       "      <td>20.2</td>\n",
       "      <td>70.3</td>\n",
       "      <td>44955349.0</td>\n",
       "      <td>281724778</td>\n",
       "    </tr>\n",
       "    <tr>\n",
       "      <th>454</th>\n",
       "      <td>455</td>\n",
       "      <td>Crabada</td>\n",
       "      <td>CRA</td>\n",
       "      <td>1.230000</td>\n",
       "      <td>2.2</td>\n",
       "      <td>-1.0</td>\n",
       "      <td>61.8</td>\n",
       "      <td>4726152.0</td>\n",
       "      <td>83576812</td>\n",
       "    </tr>\n",
       "    <tr>\n",
       "      <th>247</th>\n",
       "      <td>248</td>\n",
       "      <td>Telos</td>\n",
       "      <td>TLOS</td>\n",
       "      <td>0.865789</td>\n",
       "      <td>7.0</td>\n",
       "      <td>24.3</td>\n",
       "      <td>58.3</td>\n",
       "      <td>8760570.0</td>\n",
       "      <td>219134566</td>\n",
       "    </tr>\n",
       "    <tr>\n",
       "      <th>135</th>\n",
       "      <td>139</td>\n",
       "      <td>Render Token</td>\n",
       "      <td>RNDR</td>\n",
       "      <td>3.530000</td>\n",
       "      <td>12.2</td>\n",
       "      <td>6.2</td>\n",
       "      <td>57.3</td>\n",
       "      <td>77381086.0</td>\n",
       "      <td>542494688</td>\n",
       "    </tr>\n",
       "  </tbody>\n",
       "</table>\n",
       "</div>"
      ],
      "text/plain": [
       "     Rank           Crypto    Ticker     Price  Change 1h (%)  Change 24h (%)  \\\n",
       "450   451        ShibaDoge  SHIBDOGE  0.000000            3.6            33.2   \n",
       "380   381            Magic     MAGIC  4.080000            1.3            -4.7   \n",
       "159   160  ConstitutionDAO    PEOPLE  0.087148            5.0             3.5   \n",
       "298   297          OpenDAO       SOS  0.000004            0.8            19.9   \n",
       "405   406           Oxygen       OXY  0.491218            0.8            -1.9   \n",
       "472   473      Samoyedcoin      SAMO  0.023761            1.9            -3.8   \n",
       "207   208         StarLink     STARL  0.000028            2.6            20.2   \n",
       "454   455          Crabada       CRA  1.230000            2.2            -1.0   \n",
       "247   248            Telos      TLOS  0.865789            7.0            24.3   \n",
       "135   139     Render Token      RNDR  3.530000           12.2             6.2   \n",
       "\n",
       "     Change 7d (%)   Volume 24h  Market Cap  \n",
       "450          328.8    2057112.0    86883847  \n",
       "380          133.1   16076155.0   116435972  \n",
       "159          132.2  372076395.0   442583937  \n",
       "298          127.6  221041808.0   170130291  \n",
       "405           89.6     818531.0    98924594  \n",
       "472           72.5    6484106.0    77022668  \n",
       "207           70.3   44955349.0   281724778  \n",
       "454           61.8    4726152.0    83576812  \n",
       "247           58.3    8760570.0   219134566  \n",
       "135           57.3   77381086.0   542494688  "
      ]
     },
     "execution_count": 42,
     "metadata": {},
     "output_type": "execute_result"
    }
   ],
   "source": [
    "## Largest 7d Change (Gain):\n",
    "\n",
    "coingecko_df.sort_values('Change 7d (%)', ascending = False).head(10)"
   ]
  }
 ],
 "metadata": {
  "kernelspec": {
   "display_name": "Python 3",
   "language": "python",
   "name": "python3"
  },
  "language_info": {
   "codemirror_mode": {
    "name": "ipython",
    "version": 3
   },
   "file_extension": ".py",
   "mimetype": "text/x-python",
   "name": "python",
   "nbconvert_exporter": "python",
   "pygments_lexer": "ipython3",
   "version": "3.8.3"
  }
 },
 "nbformat": 4,
 "nbformat_minor": 4
}
